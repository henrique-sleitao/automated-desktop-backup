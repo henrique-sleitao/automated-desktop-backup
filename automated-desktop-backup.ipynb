{
 "cells": [
  {
   "cell_type": "code",
   "execution_count": 10,
   "metadata": {},
   "outputs": [
    {
     "data": {
      "text/plain": [
       "'OK'"
      ]
     },
     "execution_count": 10,
     "metadata": {},
     "output_type": "execute_result"
    }
   ],
   "source": [
    "import pyautogui\n",
    "import time\n",
    "\n",
    "pyautogui.alert('O código vai começar. Não utilize o teclado e mouse até que o código acabe')\n",
    "pyautogui.PAUSE = 0.5\n",
    "# abrir pasta\n",
    "pyautogui.hotkey('winleft', 'e')\n",
    "pyautogui.hotkey('ctrlleft', 'f')\n",
    "time.sleep(1)\n",
    "pyautogui.write('backup area de trabalho')\n",
    "pyautogui.press('enter')\n",
    "time.sleep(1)\n",
    "pyautogui.press('tab')\n",
    "pyautogui.press('down')\n",
    "pyautogui.press('enter')\n",
    "\n",
    "#maximizar pasta\n",
    "pyautogui.hotkey('winleft', 'up')\n",
    "\n",
    "# abrir desktop\n",
    "pyautogui.hotkey('winleft', 'd')\n",
    "\n",
    "# selcionar tudo desktop\n",
    "pyautogui.hotkey('ctrlleft', 'a')\n",
    "\n",
    "# arrastar \n",
    "pyautogui.moveTo(44, 44)\n",
    "pyautogui.mouseDown()\n",
    "pyautogui.moveTo(949, 517)\n",
    "\n",
    "# abrir pasta\n",
    "pyautogui.hotkey('alt', 'tab')\n",
    "time.sleep(0.5)\n",
    "\n",
    "# colar\n",
    "pyautogui.mouseUp()\n",
    "\n",
    "pyautogui.alert('O código concluido. Pode utilizar normalmente.')\n"
   ]
  }
 ],
 "metadata": {
  "kernelspec": {
   "display_name": "Python 3",
   "language": "python",
   "name": "python3"
  },
  "language_info": {
   "codemirror_mode": {
    "name": "ipython",
    "version": 3
   },
   "file_extension": ".py",
   "mimetype": "text/x-python",
   "name": "python",
   "nbconvert_exporter": "python",
   "pygments_lexer": "ipython3",
   "version": "3.11.4"
  },
  "orig_nbformat": 4
 },
 "nbformat": 4,
 "nbformat_minor": 2
}
